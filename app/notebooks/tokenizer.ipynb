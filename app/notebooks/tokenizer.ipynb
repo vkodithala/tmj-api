{
 "cells": [
  {
   "cell_type": "code",
   "execution_count": 4,
   "metadata": {},
   "outputs": [],
   "source": [
    "from angle_emb import AnglE\n",
    "from angle_emb.utils import cosine_similarity\n",
    "import tensorflow as tf"
   ]
  },
  {
   "cell_type": "code",
   "execution_count": 5,
   "metadata": {},
   "outputs": [],
   "source": [
    "angle = AnglE.from_pretrained(\n",
    "    'WhereIsAI/UAE-Large-V1', pooling_strategy='cls').cuda()\n",
    "\n",
    "\n",
    "def embed(content: str):\n",
    "    tensor = angle.encode([content], normalize_embedding=True)\n",
    "    return tf.reshape(tensor, [-1])"
   ]
  },
  {
   "cell_type": "code",
   "execution_count": 6,
   "metadata": {},
   "outputs": [
    {
     "name": "stdout",
     "output_type": "stream",
     "text": [
      "tf.Tensor(\n",
      "[ 0.02873766  0.03343049  0.02003547 ... -0.00778145 -0.00595999\n",
      "  0.01919506], shape=(1024,), dtype=float32)\n"
     ]
    }
   ],
   "source": [
    "print(embed(\"Hello world\"))"
   ]
  }
 ],
 "metadata": {
  "kernelspec": {
   "display_name": "env",
   "language": "python",
   "name": "python3"
  },
  "language_info": {
   "name": "python",
   "version": "3.12.3"
  }
 },
 "nbformat": 4,
 "nbformat_minor": 2
}
